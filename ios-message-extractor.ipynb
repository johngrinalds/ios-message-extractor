{
 "cells": [
  {
   "cell_type": "markdown",
   "metadata": {},
   "source": [
    "# iOS Message Extractor and Formatter"
   ]
  },
  {
   "cell_type": "code",
   "execution_count": null,
   "metadata": {},
   "outputs": [],
   "source": [
    "#http://bugcharmer.blogspot.com/2015/02/exporting-text-messages-from-iphone.html\n",
    "#https://sweet-as-tandy.com/2015/06/26/how-to-retrieve-and-analyze-your-ios-messages-with-python-pandas-and-nltk/\n",
    "#https://osxdaily.com/2010/07/08/read-iphone-sms-backup/\n",
    "#https://datacarpentry.org/python-ecology-lesson/09-working-with-sql/index.html\n",
    "#https://stackoverflow.com/questions/39541908/convert-cocoa-timestamp-in-python\n",
    "#https://codepen.io/swards/pen/gxQmbj\n",
    "#https://apple.stackexchange.com/questions/77432/location-of-message-attachments-in-ios-6-backup\n",
    "#https://www.richinfante.com/2017/3/16/reverse-engineering-the-ios-backup#manifestdb\n",
    "\n",
    "\n",
    "import pandas as pd\n",
    "import sqlite3\n",
    "from datetime import datetime, timedelta\n",
    "import numpy as np\n",
    "import os\n",
    "import hashlib\n",
    "from shutil import copy\n",
    "\n",
    "from IPython.core.display import display, HTML\n",
    "display(HTML(\"<style>.container { width:100% !important; }</style>\"))\n",
    "pd.set_option('display.max_colwidth', None)\n",
    "pd.options.display.max_columns = None"
   ]
  },
  {
   "cell_type": "code",
   "execution_count": null,
   "metadata": {},
   "outputs": [],
   "source": [
    "#\n",
    "# Set the variables\n",
    "#\n",
    "\n",
    "correspondence_name = 'John Doe'\n",
    "path_to_ios_backup = '/Users/johngrinalds/Library/Application Support/MobileSync/Backup/6ef7a452078bbfb82a077376a7c9c62056d398d2/'\n",
    "path_to_address_book = '/Users/johngrinalds/Library/Application Support/MobileSync/Backup/6ef7a452078bbfb82a077376a7c9c62056d398d2/31/31bb7ba8914766d4ba40d6dfb6113c8b614be442'\n",
    "path_to_messages = '/Users/johngrinalds/Library/Application Support/MobileSync/Backup/6ef7a452078bbfb82a077376a7c9c62056d398d2/3d/3d0d7e5fb2ce288813306e4d4636395e047a3d28'\n",
    "path_to_voicemails = '/Users/johngrinalds/Library/Application Support/MobileSync/Backup/6ef7a452078bbfb82a077376a7c9c62056d398d2/99/992df473bbb9e132f4b3b6e4d33f72171e97bc7a'\n",
    "path_to_manifest = '/Users/johngrinalds/Library/Application Support/MobileSync/Backup/6ef7a452078bbfb82a077376a7c9c62056d398d2/Manifest.db'\n",
    "attachments_destination = \"/Users/johngrinalds/Documents/GitHub/ios-message-extractor/attachments\"\n",
    "voicemail_destination = \"/Users/johngrinalds/Documents/GitHub/ios-message-extractor/voicemails\""
   ]
  },
  {
   "cell_type": "markdown",
   "metadata": {},
   "source": [
    "# Gather and clean tables"
   ]
  },
  {
   "cell_type": "code",
   "execution_count": null,
   "metadata": {},
   "outputs": [],
   "source": [
    "# This function is used to convert the iOS timestamp into a readable format\n",
    "def ts_convert(t):\n",
    "    unix = datetime(1970, 1, 1)  # UTC\n",
    "    cocoa = datetime(2001, 1, 1)  # UTC\n",
    "\n",
    "    delta = cocoa - unix  # timedelta instance\n",
    "\n",
    "    timestamp = datetime.fromtimestamp(int(t/1000000000)) + delta\n",
    "\n",
    "    return timestamp.strftime('%A, %B %d, %Y %I:%M %p')"
   ]
  },
  {
   "cell_type": "code",
   "execution_count": null,
   "metadata": {},
   "outputs": [],
   "source": [
    "# Get the names and numbers from the address book\n",
    "con = sqlite3.connect(path_to_address_book)\n",
    "df_ab = pd.read_sql_query(\"SELECT * FROM ABPersonFullTextSearch_content\", con)\n",
    "con.close()\n",
    "\n",
    "#This function converts Nones to blanks\n",
    "def xstr(s):\n",
    "    return '' if s is None else str(s)\n",
    "\n",
    "df_ab['c0First'] = df_ab['c0First'].apply(lambda x: xstr(x))\n",
    "df_ab['c1Last'] = df_ab['c1Last'].apply(lambda x: xstr(x))\n",
    "\n",
    "df_ab = df_ab[['c0First','c1Last','c16Phone']]\n",
    "\n",
    "df_ab['name'] = df_ab.c0First + ' ' + df_ab.c1Last\n",
    "df_ab['phone'] = df_ab['c16Phone'].apply(lambda x: str(x)[-19:-9]) #using the 10 digit number as an identifier\n",
    "df_ab = df_ab[['name','phone']]\n",
    "df_ab.drop_duplicates(inplace = True)\n",
    "df_ab.drop_duplicates(inplace = True, subset = ['phone']) #there are some people who are shown to have the same number...\n",
    "\n",
    "df_ab['name'].replace('', np.nan, inplace=True)\n",
    "df_ab['name'].replace(' ', np.nan, inplace=True) #some names have large spaces in them\n",
    "df_ab['phone'].replace('', np.nan, inplace=True)\n",
    "df_ab = df_ab.dropna()\n",
    "\n",
    "#df_ab"
   ]
  },
  {
   "cell_type": "code",
   "execution_count": null,
   "metadata": {},
   "outputs": [],
   "source": [
    "# Get the handles of each phone number\n",
    "con = sqlite3.connect(path_to_messages)\n",
    "df_handle = pd.read_sql_query(\"SELECT * FROM handle\", con)\n",
    "con.close()\n",
    "\n",
    "df_handle['id'] = df_handle['id'].apply(lambda x: str(x)[-10:])\n",
    "df_handle = df_handle[['ROWID','id']]\n",
    "df_handle = df_handle.rename(columns = {'id':'phone', 'ROWID':'handle_id'})\n",
    "df_handle.dropna(inplace = True)\n",
    "#df_handle"
   ]
  },
  {
   "cell_type": "code",
   "execution_count": null,
   "metadata": {},
   "outputs": [],
   "source": [
    "# Get the message content\n",
    "con = sqlite3.connect(path_to_messages)\n",
    "df_mess = pd.read_sql_query(\"SELECT * FROM message\", con)\n",
    "con.close()\n",
    "\n",
    "df_mess = df_mess[['ROWID','handle_id','text','is_from_me','date','cache_roomnames']]\n",
    "df_mess['date'] = df_mess['date'].apply(lambda d: ts_convert(d))\n",
    "df_mess['display_date'] = df_mess['date']\n",
    "df_mess['date'] = pd.to_datetime(df_mess['date'])\n",
    "df_mess = df_mess[~df_mess['text'].str.contains('Laughed at “|Liked “|Loved “|Emphasized “|Emphasized an image|Loved an image|Liked an image', regex=True).astype('bool')] # This line removes the reactions from the text; note the peculiar double quotes...\n",
    "df_mess = df_mess[df_mess['cache_roomnames'].isna()] # This line filters out group conversations\n",
    "df_mess.reset_index(inplace = True, drop = True)\n",
    "#df_mess"
   ]
  },
  {
   "cell_type": "code",
   "execution_count": null,
   "metadata": {},
   "outputs": [],
   "source": [
    "# Attachments Join Table\n",
    "con = sqlite3.connect(path_to_messages)\n",
    "df_att_key = pd.read_sql_query(\"SELECT * FROM message_attachment_join\", con)\n",
    "con.close()\n",
    "\n",
    "#df_att_key"
   ]
  },
  {
   "cell_type": "code",
   "execution_count": null,
   "metadata": {},
   "outputs": [],
   "source": [
    "# Attachments\n",
    "\n",
    "#Connect to the attachment table\n",
    "con = sqlite3.connect(path_to_messages)\n",
    "df_att = pd.read_sql_query(\"SELECT * FROM attachment\", con)\n",
    "con.close()\n",
    "\n",
    "df_att = df_att[['ROWID','filename','mime_type','transfer_name']]\n",
    "df_att = df_att[df_att['mime_type'].str.contains('jpeg|png|heic|gif', regex=True).astype('bool')] # filter to only the image attachements\n",
    "df_att['ext'] = df_att['mime_type'].apply(lambda x: str(x).split('image/', 1)[1]) #get the file extension\n",
    "df_att['filename_new'] = df_att['filename'].apply(lambda x: 'MediaDomain-Library/' + str(x)[10:]) # this is the filename needed for the SHA1 hash\n",
    "df_att['sha1'] = df_att['filename_new'].apply(lambda x: hashlib.sha1(str.encode(x)).hexdigest())\n",
    "\n",
    "# This function will return the path of the attachment files referenced in the messages\n",
    "def find(name, path):\n",
    "    for root, dirs, files in os.walk(path):\n",
    "        if name in files:\n",
    "            return os.path.join(root, name)\n",
    "\n",
    "df_att['filepath'] = df_att['sha1'].apply(lambda x: find(x, path_to_ios_backup))\n",
    "df_att = df_att[~df_att['filepath'].isna()] # Remove the entries for the files that couldn't be found\n",
    "df_att = df_att[['ROWID','ext','sha1','filepath']]\n",
    "#df_att"
   ]
  },
  {
   "cell_type": "markdown",
   "metadata": {},
   "source": [
    "# Join Tables"
   ]
  },
  {
   "cell_type": "code",
   "execution_count": null,
   "metadata": {},
   "outputs": [],
   "source": [
    "# Merge the attachment information with the attachment key\n",
    "df_att_merge = pd.merge(df_att, df_att_key, how = 'left', left_on = 'ROWID', right_on = 'attachment_id')\n",
    "df_att_merge.drop(columns = ['ROWID','attachment_id'], inplace = True)\n",
    "df_att_merge.dropna(inplace = True)\n",
    "df_att_merge['message_id'] = df_att_merge['message_id'].astype('int')\n",
    "df_att_merge"
   ]
  },
  {
   "cell_type": "code",
   "execution_count": null,
   "metadata": {},
   "outputs": [],
   "source": [
    "# Merge the names with the handles via the phone number\n",
    "df_merge = None\n",
    "df_merge = pd.merge(df_ab, df_handle, how = 'left', on = 'phone')\n",
    "df_merge.dropna(inplace = True)\n",
    "df_merge['handle_id'] = df_merge['handle_id'].astype(int)\n",
    "df_merge"
   ]
  },
  {
   "cell_type": "code",
   "execution_count": null,
   "metadata": {},
   "outputs": [],
   "source": [
    "# Merge the messages with the names via the handle\n",
    "df_final = pd.merge(df_mess, df_merge, how = 'left' , on = 'handle_id')\n",
    "df_final.drop(columns = ['handle_id','phone'], inplace = True)\n",
    "df_final"
   ]
  },
  {
   "cell_type": "code",
   "execution_count": null,
   "metadata": {
    "scrolled": true
   },
   "outputs": [],
   "source": [
    "# Merge the messages with the attachements\n",
    "df_final = pd.merge(df_final, df_att_merge, how = 'left' , left_on = 'ROWID', right_on = 'message_id')\n",
    "df_final.drop(columns = ['message_id'], inplace = True)\n",
    "df_final"
   ]
  },
  {
   "cell_type": "markdown",
   "metadata": {},
   "source": [
    "# Parse data into HTML"
   ]
  },
  {
   "cell_type": "code",
   "execution_count": null,
   "metadata": {},
   "outputs": [],
   "source": [
    "# This function will copy the image attachments from the backup folder,\n",
    "# convert any .heic files to .jpegs, and then delete the .heic files.\n",
    "\n",
    "def copy_rename_attachments(filepath, dest, sha1, ext):\n",
    "    copy(filepath, dest)\n",
    "    os.rename(\"attachments/\" + sha1,\"attachments/\" + sha1 + \".\" + ext)\n",
    "    os.system('magick mogrify -monitor -format jpeg attachments/*.heic')\n",
    "    os.system('find attachments/ -name \"*.heic\" -delete')"
   ]
  },
  {
   "cell_type": "code",
   "execution_count": null,
   "metadata": {},
   "outputs": [],
   "source": [
    "def generate_text_history(name, df, swap_sides = False):\n",
    "    \n",
    "    # create the directory to store the attachment images\n",
    "    if not os.path.exists('./attachments'):\n",
    "        os.mkdir('./attachments')\n",
    "    \n",
    "    # The \"swap sides\" parameters will switch who is rendered as the \"sender\" and \"receiver\" in the HTML\n",
    "    if swap_sides == True:\n",
    "        from_me_flag = 0\n",
    "    else:\n",
    "        from_me_flag = 1\n",
    "    \n",
    "    df = df[df['name'] == name] # filter to the name of the person you corresponded with\n",
    "    df = df.reset_index()\n",
    "    \n",
    "    content = ''\n",
    "\n",
    "    for i in range(len(df['name'])):\n",
    "               \n",
    "        \n",
    "        #insert dates\n",
    "        \n",
    "        if i == 0:\n",
    "            content = content + '''\n",
    "                <div class=\"date\">\n",
    "                  {}\n",
    "                 </div>\n",
    "\n",
    "                '''.format(df['display_date'][i])\n",
    "        else:\n",
    "            if df['date'][i] > df['date'][i-1] + timedelta(minutes = 10):\n",
    "                content = content + '''\n",
    "                <div class=\"date\">\n",
    "                  {}\n",
    "                 </div>\n",
    "\n",
    "                '''.format(df['display_date'][i])\n",
    "\n",
    "\n",
    "        if df['is_from_me'][i] == from_me_flag:\n",
    "            content = content + '''\n",
    "              <div class=\"mine messages\">\n",
    "                <div class=\"message\">\n",
    "            '''\n",
    "            \n",
    "            if pd.notnull(df['filepath'][i]):\n",
    "                copy_rename_attachments(df['filepath'][i], attachments_destination, df['sha1'][i], df['ext'][i])\n",
    "                df['ext'].loc[i] = df['ext'].loc[i].replace('heic','jpeg')\n",
    "                image_src = \"attachments/\" + df['sha1'][i] + \".\" + df['ext'][i]\n",
    "                content = content + '<img src =\"{}\" height=\"6\">'.format(image_src)\n",
    "            \n",
    "            content = content + '''\n",
    "              {}\n",
    "            </div>\n",
    "          </div>\n",
    "          '''.format(df['text'].iloc[i])\n",
    "            \n",
    "        else:\n",
    "            content = content + '''\n",
    "          <div class=\"yours messages\">\n",
    "            <div class=\"message\">\n",
    "            '''\n",
    "            \n",
    "            if pd.notnull(df['filepath'][i]):\n",
    "                copy_rename_attachments(df['filepath'][i], attachments_destination, df['sha1'][i], df['ext'][i])\n",
    "                df['ext'].loc[i] = df['ext'].loc[i].replace('heic','jpeg')\n",
    "                image_src = \"attachments/\" + df['sha1'][i] + \".\" + df['ext'][i]\n",
    "                content = content + '<img src =\"{}\" height=\"6\">'.format(image_src)\n",
    "            \n",
    "            content = content + '''\n",
    "              {}\n",
    "            </div>\n",
    "          </div>\n",
    "          '''.format(df['text'].iloc[i])\n",
    "            \n",
    "    return content"
   ]
  },
  {
   "cell_type": "code",
   "execution_count": null,
   "metadata": {},
   "outputs": [],
   "source": [
    "with open('css.txt', 'r') as file:\n",
    "    css = file.read().replace('\\n', '')\n",
    "    \n",
    "html_output = css + '''\n",
    "<body>\n",
    "<h1>{} iOS Message History</h1>\n",
    "<div class=\"chat\">\n",
    "\n",
    "  {}  \n",
    "  \n",
    "</div>\n",
    "</body>\n",
    "'''.format(correspondence_name, generate_text_history(correspondence_name, df_final, swap_sides = False))\n",
    "\n",
    "#Uncomment this line you want to view the output in Jupyter\n",
    "#display(HTML(html_output))"
   ]
  },
  {
   "cell_type": "code",
   "execution_count": null,
   "metadata": {},
   "outputs": [],
   "source": [
    "# Output to file\n",
    "finalHTMLString = ''\n",
    "for i in range(len(html_output)):\n",
    "    finalHTMLString += html_output[i].replace('\\n','')\n",
    "\n",
    "Html_file= open(\"{}_iOS_messages.html\".format(correspondence_name.replace(' ','_')),\"w\")\n",
    "Html_file.write(finalHTMLString)\n",
    "Html_file.close()"
   ]
  },
  {
   "cell_type": "markdown",
   "metadata": {},
   "source": [
    "# Voicemail"
   ]
  },
  {
   "cell_type": "code",
   "execution_count": null,
   "metadata": {},
   "outputs": [],
   "source": [
    "# Manifest\n",
    "\n",
    "con = sqlite3.connect(path_to_manifest)\n",
    "df_mf_vm = pd.read_sql_query(\"SELECT * from FILES where relativePath like 'Library/Voicemail/%.amr'\", con)\n",
    "con.close()\n",
    "\n",
    "df_mf_vm = df_mf_vm[['fileID','relativePath']]\n",
    "df_mf_vm['ROWID'] = df_mf_vm['relativePath'].apply(lambda x: os.path.split(x)[1][:-4]).astype('int') # Get the ID of the voicemail file"
   ]
  },
  {
   "cell_type": "code",
   "execution_count": null,
   "metadata": {},
   "outputs": [],
   "source": [
    "# Tables are map, voicemail, and deleted\n",
    "\n",
    "con = sqlite3.connect(path_to_voicemails)\n",
    "df_vm = pd.read_sql_query(\"SELECT *, datetime(date, 'unixepoch','localtime') AS XFORMATTEDDATESTRING from voicemail ORDER BY date ASC\", con)\n",
    "con.close()\n",
    "\n",
    "df_vm = df_vm[['ROWID','sender','XFORMATTEDDATESTRING']]\n",
    "df_vm['sender'] = df_vm['sender'].str[2:]\n",
    "df_vm = pd.merge(df_vm, df_merge[['name','phone']].drop_duplicates(), how = 'left', left_on = 'sender', right_on = 'phone')\n",
    "df_vm = df_vm[['ROWID','XFORMATTEDDATESTRING','name','phone']]\n",
    "df_vm[df_vm['ROWID'] ==55]\n",
    "df_vm"
   ]
  },
  {
   "cell_type": "code",
   "execution_count": null,
   "metadata": {},
   "outputs": [],
   "source": [
    "df_vm_merged = pd.merge(df_vm, df_mf_vm, how = 'left', on = 'ROWID')\n",
    "df_vm_merged['ROWID'].duplicated(keep = 'first')\n",
    "df_vm_merged['filepath'] = df_vm_merged['fileID'].apply(lambda x: find(x, path_to_ios_backup))\n",
    "df_vm_merged['final'] = (df_vm_merged['XFORMATTEDDATESTRING']+ ' ' +df_vm_merged['name']+ ' ' +df_vm_merged['phone']+'.amr').astype('str')\n",
    "df_vm_merged['final'] = np.where(df_vm_merged['final'] == 'nan',df_vm_merged['XFORMATTEDDATESTRING']+'.amr',df_vm_merged['final'])\n",
    "df_vm_merged['final'] = df_vm_merged['final'].apply(lambda x: x.replace(' ','_').replace(':','.'))\n",
    "df_vm_merged"
   ]
  },
  {
   "cell_type": "code",
   "execution_count": null,
   "metadata": {},
   "outputs": [],
   "source": [
    "def copy_voicemail(filepath, dest, sha1, final):\n",
    "    copy(filepath, dest)\n",
    "    os.rename(\"voicemails/\" + sha1,\"voicemails/\" + final)"
   ]
  },
  {
   "cell_type": "code",
   "execution_count": null,
   "metadata": {},
   "outputs": [],
   "source": [
    "# Go through all the voicemails, copy to the folder, and change the filename to the correct name\n",
    "for i in range(len(df_vm_merged['final'])):\n",
    "    copy_voicemail(df_vm_merged['filepath'].iloc[i],voicemail_destination ,df_vm_merged['fileID'].iloc[i],df_vm_merged['final'].iloc[i])"
   ]
  }
 ],
 "metadata": {
  "kernelspec": {
   "display_name": "Python 3",
   "language": "python",
   "name": "python3"
  },
  "language_info": {
   "codemirror_mode": {
    "name": "ipython",
    "version": 3
   },
   "file_extension": ".py",
   "mimetype": "text/x-python",
   "name": "python",
   "nbconvert_exporter": "python",
   "pygments_lexer": "ipython3",
   "version": "3.8.3"
  }
 },
 "nbformat": 4,
 "nbformat_minor": 4
}
